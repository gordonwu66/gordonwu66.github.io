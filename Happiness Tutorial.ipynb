{
 "cells": [
  {
   "cell_type": "markdown",
   "metadata": {},
   "source": [
    "<h1><center> How Happy is Our World? </center></h1>\n",
    "<h3><center> By: Annabelle Baer, Utsa Santhosh, and Gordon Wu </center></h3>\n",
    "<img src=\"happy song.jpg\"/>"
   ]
  },
  {
   "cell_type": "markdown",
   "metadata": {},
   "source": [
    "## Introduction"
   ]
  },
  {
   "cell_type": "markdown",
   "metadata": {},
   "source": [
    "Throughout the years, the United Nations publishes a \"World Happiness Report\" that gives countries around the world a score that correlates to the quality of life of citizens in the nation. Although 2020 in our eyes might not be the happiest year in the record books, it would be interesting to know which factors impact a country's happiness score. \n",
    "\n",
    "The report contains information about a country’s social and economical factors, which together all contribute to receiving a score about the overall happiness of the nation. Some of these factors include the country’s GPD, freedom score, and generosity. Currently, there is data available from 2015-2020, however since the 2020 report was already released, it does not indicate the dramatic effects that COVID has had on a country. This has resulted in some biased data. We will see the true impact of this tumultuous year on the happiness of a country when the 2021 report gets released next year.\n",
    "\n",
    "Hopefully, through this tutorial, we can learn which factors are important in ensuring happiness in a nation. If you are looking to create your own country, move to a new country, or work to fix the country you are in, stay tuned to learn which important factors might just make you happy. We could all use more these days!\n"
   ]
  },
  {
   "cell_type": "markdown",
   "metadata": {},
   "source": [
    "## Data Importing"
   ]
  },
  {
   "cell_type": "markdown",
   "metadata": {},
   "source": [
    "We need to import data from the Happiness Report from 2015-2020. From there, we need to clean up the data so that all the column names remain consistent throughout the years to aid us when we are calculating our analysis on these countries. After that, we are going to merge all of the datasets from throughout the years together to get one dataset that we can use to determine the top 5 and bottom 5 happiest countries from 2015-2020."
   ]
  },
  {
   "cell_type": "markdown",
   "metadata": {},
   "source": [
    "This first block includes everything that we will need to import to find our analysis. Here is what we will use it all for:\n",
    "1. Pandas:\n",
    "2. Numpy:\n",
    "3. Matplotlib:\n",
    "4. Sklearn:\n",
    "5. Statsmodels:"
   ]
  },
  {
   "cell_type": "code",
   "execution_count": 7,
   "metadata": {},
   "outputs": [],
   "source": [
    "# Imports\n",
    "import pandas as pd\n",
    "import numpy as num\n",
    "import matplotlib.pyplot as plt\n",
    "from sklearn import linear_model\n",
    "import statsmodels.formula.api as sm"
   ]
  },
  {
   "cell_type": "markdown",
   "metadata": {},
   "source": [
    "Next we will need to read the csv files into dataframes for each year. The data that was given to us came in the form of a csv file, containing data specific to that year. By using pandas to import it into a dataframe, we are prepping the data to be able to be used together for our analysis."
   ]
  },
  {
   "cell_type": "code",
   "execution_count": 8,
   "metadata": {},
   "outputs": [],
   "source": [
    "# reading in each csv\n",
    "df_2015 = pd.read_csv('Data/2015.csv')\n",
    "df_2016 = pd.read_csv('Data/2016.csv')\n",
    "df_2017 = pd.read_csv('Data/2017.csv')\n",
    "df_2018 = pd.read_csv('Data/2018.csv')\n",
    "df_2019 = pd.read_csv('Data/2019.csv')\n",
    "df_2020 = pd.read_csv('Data/2020.csv')"
   ]
  },
  {
   "cell_type": "markdown",
   "metadata": {},
   "source": [
    "Before we go ahead and merge all of these dataframes together, to make life easier for ourselves later on we are going to rename columns in the dataframes from each year so that they remain consistent throughout the years. When we got our data, since the information was pulled from different years, they did not use the same names for columns (we saw \"Happiness Score\", \"Happiness.score\", \"Score\", etc all relating to the Happiness Score). "
   ]
  },
  {
   "cell_type": "code",
   "execution_count": 9,
   "metadata": {},
   "outputs": [],
   "source": [
    "# Rename to standardize columns for names that differ between datasets \n",
    "df_2015=df_2015.rename(columns={\"Economy\": \"GDP\", \"Health (Life Expectancy)\":\"Life Expectancy\", \"Trust (Government Corruption)\":\"Trust\"})\n",
    "df_2016=df_2016.rename(columns={\"Economy (GDP per Capita)\": \"GDP\", \"Health (Life Expectancy)\":\"Life Expectancy\", \"Trust (Government Corruption)\":\"Trust\"})\n",
    "df_2017=df_2017.rename(columns={\"Happiness.Score\": \"Happiness Score\",\"Economy..GDP.per.Capita.\": \"GDP\", \"Health..Life.Expectancy.\":\"Life Expectancy\", \"Trust..Government.Corruption.\":\"Trust\"})\n",
    "df_2018=df_2018.rename(columns={\"Score\": \"Happiness Score\",\"Country or region\": \"Country\",\"GDP per capita\": \"GDP\",\"Social support\":\"Family\", \"Healthy life expectancy\":\"Life Expectancy\", \"Freedom to make life choices\":\"Freedom\", \"Perceptions of corruption\":\"Trust\"})\n",
    "df_2019=df_2019.rename(columns={\"Score\": \"Happiness Score\",\"Country or region\": \"Country\",\"GDP per capita\": \"GDP\",\"Social support\":\"Family\", \"Healthy life expectancy\":\"Life Expectancy\", \"Freedom to make life choices\":\"Freedom\", \"Perceptions of corruption\":\"Trust\"})\n",
    "df_2020=df_2020.rename(columns={\"Ladder score\": \"Happiness Score\",\"Country name\": \"Country\",\"Logged GDP per capita\": \"GDP\", \"Social support\":\"Family\", \"Healthy life expectancy\":\"Life Expectancy\", \"Freedom to make life choices\":\"Freedom\", \"Perceptions of corruption\":\"Trust\"})"
   ]
  },
  {
   "cell_type": "markdown",
   "metadata": {},
   "source": [
    "Now we are finally going to go ahead and merge all of our dataframes together to form one large dataframe! When merging together, they are merging on \"Country\", meaning that the final dataset will only contain countries that have appeared in every Happiness report from 2015-2020. This can also lead to some bias since we are excluding countries that may only appear on reports from some years but not all, but since our goal is to see change in happiness score over time it is a good idea to merge them. \n",
    "\n",
    "Also, seeing that we renamed our column names to be consistent in the last step, here when merging we see that column names will have the \\_year that they are from so that we can distinguish which data is from which year after we merge."
   ]
  },
  {
   "cell_type": "code",
   "execution_count": 4,
   "metadata": {},
   "outputs": [],
   "source": [
    "# merging all of the dataframes together into 1\n",
    "# columns that had the same name will have that name _year that they are from\n",
    "# They merge on country, so they will only include the countries that appear on each year's csv\n",
    "# not every year had the same number of countries, so only 138 countries appear on every year's csv\n",
    "df=pd.merge(df_2015, df_2016, on='Country', suffixes=('_2015', '_2016'))\n",
    "df=pd.merge(df, df_2017, on='Country', suffixes=('', '_2017'))\n",
    "df=pd.merge(df, df_2017, on='Country', suffixes=('', '_2017'))\n",
    "df=pd.merge(df, df_2018, on='Country', suffixes=('', '_2018'))\n",
    "df=pd.merge(df, df_2019, on='Country', suffixes=('', '_2019'))\n",
    "df=pd.merge(df, df_2020, on='Country', suffixes=('', '_2020'))"
   ]
  },
  {
   "cell_type": "code",
   "execution_count": 5,
   "metadata": {},
   "outputs": [
    {
     "data": {
      "text/html": [
       "<div>\n",
       "<style scoped>\n",
       "    .dataframe tbody tr th:only-of-type {\n",
       "        vertical-align: middle;\n",
       "    }\n",
       "\n",
       "    .dataframe tbody tr th {\n",
       "        vertical-align: top;\n",
       "    }\n",
       "\n",
       "    .dataframe thead th {\n",
       "        text-align: right;\n",
       "    }\n",
       "</style>\n",
       "<table border=\"1\" class=\"dataframe\">\n",
       "  <thead>\n",
       "    <tr style=\"text-align: right;\">\n",
       "      <th></th>\n",
       "      <th>Country</th>\n",
       "      <th>Region_2015</th>\n",
       "      <th>Happiness Rank_2015</th>\n",
       "      <th>Happiness Score_2015</th>\n",
       "      <th>Standard Error</th>\n",
       "      <th>Economy (GDP per Capita)</th>\n",
       "      <th>Family_2015</th>\n",
       "      <th>Life Expectancy_2015</th>\n",
       "      <th>Freedom_2015</th>\n",
       "      <th>Trust_2015</th>\n",
       "      <th>...</th>\n",
       "      <th>Generosity_2020</th>\n",
       "      <th>Trust_2020</th>\n",
       "      <th>Ladder score in Dystopia</th>\n",
       "      <th>Explained by: Log GDP per capita</th>\n",
       "      <th>Explained by: Social support</th>\n",
       "      <th>Explained by: Healthy life expectancy</th>\n",
       "      <th>Explained by: Freedom to make life choices</th>\n",
       "      <th>Explained by: Generosity</th>\n",
       "      <th>Explained by: Perceptions of corruption</th>\n",
       "      <th>Dystopia + residual</th>\n",
       "    </tr>\n",
       "  </thead>\n",
       "  <tbody>\n",
       "    <tr>\n",
       "      <td>0</td>\n",
       "      <td>Switzerland</td>\n",
       "      <td>Western Europe</td>\n",
       "      <td>1</td>\n",
       "      <td>7.587</td>\n",
       "      <td>0.03411</td>\n",
       "      <td>1.39651</td>\n",
       "      <td>1.34951</td>\n",
       "      <td>0.94143</td>\n",
       "      <td>0.66557</td>\n",
       "      <td>0.41978</td>\n",
       "      <td>...</td>\n",
       "      <td>0.105911</td>\n",
       "      <td>0.303728</td>\n",
       "      <td>1.972317</td>\n",
       "      <td>1.390774</td>\n",
       "      <td>1.472403</td>\n",
       "      <td>1.040533</td>\n",
       "      <td>0.628954</td>\n",
       "      <td>0.269056</td>\n",
       "      <td>0.407946</td>\n",
       "      <td>2.350267</td>\n",
       "    </tr>\n",
       "    <tr>\n",
       "      <td>1</td>\n",
       "      <td>Iceland</td>\n",
       "      <td>Western Europe</td>\n",
       "      <td>2</td>\n",
       "      <td>7.561</td>\n",
       "      <td>0.04884</td>\n",
       "      <td>1.30232</td>\n",
       "      <td>1.40223</td>\n",
       "      <td>0.94784</td>\n",
       "      <td>0.62877</td>\n",
       "      <td>0.14145</td>\n",
       "      <td>...</td>\n",
       "      <td>0.246944</td>\n",
       "      <td>0.711710</td>\n",
       "      <td>1.972317</td>\n",
       "      <td>1.326502</td>\n",
       "      <td>1.547567</td>\n",
       "      <td>1.000843</td>\n",
       "      <td>0.661981</td>\n",
       "      <td>0.362330</td>\n",
       "      <td>0.144541</td>\n",
       "      <td>2.460688</td>\n",
       "    </tr>\n",
       "    <tr>\n",
       "      <td>2</td>\n",
       "      <td>Denmark</td>\n",
       "      <td>Western Europe</td>\n",
       "      <td>3</td>\n",
       "      <td>7.527</td>\n",
       "      <td>0.03328</td>\n",
       "      <td>1.32548</td>\n",
       "      <td>1.36058</td>\n",
       "      <td>0.87464</td>\n",
       "      <td>0.64938</td>\n",
       "      <td>0.48357</td>\n",
       "      <td>...</td>\n",
       "      <td>0.066202</td>\n",
       "      <td>0.168489</td>\n",
       "      <td>1.972317</td>\n",
       "      <td>1.326949</td>\n",
       "      <td>1.503449</td>\n",
       "      <td>0.979333</td>\n",
       "      <td>0.665040</td>\n",
       "      <td>0.242793</td>\n",
       "      <td>0.495260</td>\n",
       "      <td>2.432741</td>\n",
       "    </tr>\n",
       "    <tr>\n",
       "      <td>3</td>\n",
       "      <td>Norway</td>\n",
       "      <td>Western Europe</td>\n",
       "      <td>4</td>\n",
       "      <td>7.522</td>\n",
       "      <td>0.03880</td>\n",
       "      <td>1.45900</td>\n",
       "      <td>1.33095</td>\n",
       "      <td>0.88521</td>\n",
       "      <td>0.66973</td>\n",
       "      <td>0.36503</td>\n",
       "      <td>...</td>\n",
       "      <td>0.134533</td>\n",
       "      <td>0.263218</td>\n",
       "      <td>1.972317</td>\n",
       "      <td>1.424207</td>\n",
       "      <td>1.495173</td>\n",
       "      <td>1.008072</td>\n",
       "      <td>0.670201</td>\n",
       "      <td>0.287985</td>\n",
       "      <td>0.434101</td>\n",
       "      <td>2.168266</td>\n",
       "    </tr>\n",
       "    <tr>\n",
       "      <td>4</td>\n",
       "      <td>Canada</td>\n",
       "      <td>North America</td>\n",
       "      <td>5</td>\n",
       "      <td>7.427</td>\n",
       "      <td>0.03553</td>\n",
       "      <td>1.32629</td>\n",
       "      <td>1.32261</td>\n",
       "      <td>0.90563</td>\n",
       "      <td>0.63297</td>\n",
       "      <td>0.32957</td>\n",
       "      <td>...</td>\n",
       "      <td>0.124771</td>\n",
       "      <td>0.390843</td>\n",
       "      <td>1.972317</td>\n",
       "      <td>1.301648</td>\n",
       "      <td>1.435392</td>\n",
       "      <td>1.022502</td>\n",
       "      <td>0.644028</td>\n",
       "      <td>0.281529</td>\n",
       "      <td>0.351702</td>\n",
       "      <td>2.195269</td>\n",
       "    </tr>\n",
       "  </tbody>\n",
       "</table>\n",
       "<p>5 rows × 81 columns</p>\n",
       "</div>"
      ],
      "text/plain": [
       "       Country     Region_2015  Happiness Rank_2015  Happiness Score_2015  \\\n",
       "0  Switzerland  Western Europe                    1                 7.587   \n",
       "1      Iceland  Western Europe                    2                 7.561   \n",
       "2      Denmark  Western Europe                    3                 7.527   \n",
       "3       Norway  Western Europe                    4                 7.522   \n",
       "4       Canada   North America                    5                 7.427   \n",
       "\n",
       "   Standard Error  Economy (GDP per Capita)  Family_2015  \\\n",
       "0         0.03411                   1.39651      1.34951   \n",
       "1         0.04884                   1.30232      1.40223   \n",
       "2         0.03328                   1.32548      1.36058   \n",
       "3         0.03880                   1.45900      1.33095   \n",
       "4         0.03553                   1.32629      1.32261   \n",
       "\n",
       "   Life Expectancy_2015  Freedom_2015  Trust_2015  ...  Generosity_2020  \\\n",
       "0               0.94143       0.66557     0.41978  ...         0.105911   \n",
       "1               0.94784       0.62877     0.14145  ...         0.246944   \n",
       "2               0.87464       0.64938     0.48357  ...         0.066202   \n",
       "3               0.88521       0.66973     0.36503  ...         0.134533   \n",
       "4               0.90563       0.63297     0.32957  ...         0.124771   \n",
       "\n",
       "   Trust_2020 Ladder score in Dystopia  Explained by: Log GDP per capita  \\\n",
       "0    0.303728                 1.972317                          1.390774   \n",
       "1    0.711710                 1.972317                          1.326502   \n",
       "2    0.168489                 1.972317                          1.326949   \n",
       "3    0.263218                 1.972317                          1.424207   \n",
       "4    0.390843                 1.972317                          1.301648   \n",
       "\n",
       "   Explained by: Social support  Explained by: Healthy life expectancy  \\\n",
       "0                      1.472403                               1.040533   \n",
       "1                      1.547567                               1.000843   \n",
       "2                      1.503449                               0.979333   \n",
       "3                      1.495173                               1.008072   \n",
       "4                      1.435392                               1.022502   \n",
       "\n",
       "   Explained by: Freedom to make life choices  Explained by: Generosity  \\\n",
       "0                                    0.628954                  0.269056   \n",
       "1                                    0.661981                  0.362330   \n",
       "2                                    0.665040                  0.242793   \n",
       "3                                    0.670201                  0.287985   \n",
       "4                                    0.644028                  0.281529   \n",
       "\n",
       "   Explained by: Perceptions of corruption  Dystopia + residual  \n",
       "0                                 0.407946             2.350267  \n",
       "1                                 0.144541             2.460688  \n",
       "2                                 0.495260             2.432741  \n",
       "3                                 0.434101             2.168266  \n",
       "4                                 0.351702             2.195269  \n",
       "\n",
       "[5 rows x 81 columns]"
      ]
     },
     "execution_count": 5,
     "metadata": {},
     "output_type": "execute_result"
    }
   ],
   "source": [
    "df.head()"
   ]
  },
  {
   "cell_type": "markdown",
   "metadata": {},
   "source": [
    "## Determining Happiest and Least Happiest Countries"
   ]
  },
  {
   "cell_type": "markdown",
   "metadata": {},
   "source": [
    "Seeing that there are over 100 countries that appear on the Happiness Report, we do not want to plot and analyze them all. Instead, we can focus on which factors contribute to countries being the happiest, and which contribute to the countries being the least happy. To do this, we are going to take the average Happiness Score from each country from each year, and then sort the countries by their happiness score to determine the top 5 happiest countries and bottom 5 least happy countries. \n",
    "\n",
    "We are then going to add each country's average happiness score from 2015-2020 as a column in the dataframe, so that we can sort the entire dataframe by these values. "
   ]
  },
  {
   "cell_type": "code",
   "execution_count": 10,
   "metadata": {
    "scrolled": false
   },
   "outputs": [],
   "source": [
    "#getting average happiness score\n",
    "countries = df['Country']\n",
    "countryNames = countries.unique()\n",
    "averages = []\n",
    "new_vals = pd.DataFrame(columns=['Country', 'Average Happiness Score'])\n",
    "for country in countryNames:\n",
    "    countryStats = df[df['Country'] == country]\n",
    "    x2015 = countryStats.iloc[0]['Happiness Score_2015']\n",
    "    x2016 = countryStats.iloc[0]['Happiness Score_2016']\n",
    "    x2017 = countryStats.iloc[0]['Happiness Score_2017']\n",
    "    x2018 = countryStats.iloc[0]['Happiness Score_2018']\n",
    "    x2019 = countryStats.iloc[0]['Happiness Score_2019']\n",
    "    x2020 = countryStats.iloc[0]['Happiness Score_2020']\n",
    "    sumHappy = x2015+x2016+x2017+x2018+x2018+x2020\n",
    "    avg = sumHappy/6.0\n",
    "    \n",
    "    averages.append(avg)\n",
    "# adding average score to dataframe\n",
    "df['Average Happiness'] = averages"
   ]
  },
  {
   "cell_type": "markdown",
   "metadata": {},
   "source": [
    "Now, we are going to go ahead and sort the entire dataframe by these average happiness scores to find out which countries have on average been the happiest from 2015-2020"
   ]
  },
  {
   "cell_type": "code",
   "execution_count": 36,
   "metadata": {},
   "outputs": [],
   "source": [
    "# sorting the new df based on the average happiness values (last column)\n",
    "df = df.sort_values(by=['Average Happiness'], ascending=False)"
   ]
  },
  {
   "cell_type": "markdown",
   "metadata": {},
   "source": [
    "The .head() function of a dataframe gives the top 5 entries, and since we sorted our dataframe we are now able to get our top 5 happiest countries!"
   ]
  },
  {
   "cell_type": "code",
   "execution_count": 37,
   "metadata": {},
   "outputs": [
    {
     "data": {
      "text/html": [
       "<div>\n",
       "<style scoped>\n",
       "    .dataframe tbody tr th:only-of-type {\n",
       "        vertical-align: middle;\n",
       "    }\n",
       "\n",
       "    .dataframe tbody tr th {\n",
       "        vertical-align: top;\n",
       "    }\n",
       "\n",
       "    .dataframe thead th {\n",
       "        text-align: right;\n",
       "    }\n",
       "</style>\n",
       "<table border=\"1\" class=\"dataframe\">\n",
       "  <thead>\n",
       "    <tr style=\"text-align: right;\">\n",
       "      <th></th>\n",
       "      <th>Country</th>\n",
       "      <th>Region_2015</th>\n",
       "      <th>Happiness Rank_2015</th>\n",
       "      <th>Happiness Score_2015</th>\n",
       "      <th>Standard Error</th>\n",
       "      <th>Economy (GDP per Capita)</th>\n",
       "      <th>Family_2015</th>\n",
       "      <th>Life Expectancy_2015</th>\n",
       "      <th>Freedom_2015</th>\n",
       "      <th>Trust_2015</th>\n",
       "      <th>...</th>\n",
       "      <th>Trust_2020</th>\n",
       "      <th>Ladder score in Dystopia</th>\n",
       "      <th>Explained by: Log GDP per capita</th>\n",
       "      <th>Explained by: Social support</th>\n",
       "      <th>Explained by: Healthy life expectancy</th>\n",
       "      <th>Explained by: Freedom to make life choices</th>\n",
       "      <th>Explained by: Generosity</th>\n",
       "      <th>Explained by: Perceptions of corruption</th>\n",
       "      <th>Dystopia + residual</th>\n",
       "      <th>Average Happiness</th>\n",
       "    </tr>\n",
       "  </thead>\n",
       "  <tbody>\n",
       "    <tr>\n",
       "      <th>5</th>\n",
       "      <td>Finland</td>\n",
       "      <td>Western Europe</td>\n",
       "      <td>6</td>\n",
       "      <td>7.406</td>\n",
       "      <td>0.03140</td>\n",
       "      <td>1.29025</td>\n",
       "      <td>1.31826</td>\n",
       "      <td>0.88911</td>\n",
       "      <td>0.64169</td>\n",
       "      <td>0.41372</td>\n",
       "      <td>...</td>\n",
       "      <td>0.195445</td>\n",
       "      <td>1.972317</td>\n",
       "      <td>1.285190</td>\n",
       "      <td>1.499526</td>\n",
       "      <td>0.961271</td>\n",
       "      <td>0.662317</td>\n",
       "      <td>0.159670</td>\n",
       "      <td>0.477857</td>\n",
       "      <td>2.762835</td>\n",
       "      <td>7.560117</td>\n",
       "    </tr>\n",
       "    <tr>\n",
       "      <th>2</th>\n",
       "      <td>Denmark</td>\n",
       "      <td>Western Europe</td>\n",
       "      <td>3</td>\n",
       "      <td>7.527</td>\n",
       "      <td>0.03328</td>\n",
       "      <td>1.32548</td>\n",
       "      <td>1.36058</td>\n",
       "      <td>0.87464</td>\n",
       "      <td>0.64938</td>\n",
       "      <td>0.48357</td>\n",
       "      <td>...</td>\n",
       "      <td>0.168489</td>\n",
       "      <td>1.972317</td>\n",
       "      <td>1.326949</td>\n",
       "      <td>1.503449</td>\n",
       "      <td>0.979333</td>\n",
       "      <td>0.665040</td>\n",
       "      <td>0.242793</td>\n",
       "      <td>0.495260</td>\n",
       "      <td>2.432741</td>\n",
       "      <td>7.555100</td>\n",
       "    </tr>\n",
       "    <tr>\n",
       "      <th>3</th>\n",
       "      <td>Norway</td>\n",
       "      <td>Western Europe</td>\n",
       "      <td>4</td>\n",
       "      <td>7.522</td>\n",
       "      <td>0.03880</td>\n",
       "      <td>1.45900</td>\n",
       "      <td>1.33095</td>\n",
       "      <td>0.88521</td>\n",
       "      <td>0.66973</td>\n",
       "      <td>0.36503</td>\n",
       "      <td>...</td>\n",
       "      <td>0.263218</td>\n",
       "      <td>1.972317</td>\n",
       "      <td>1.424207</td>\n",
       "      <td>1.495173</td>\n",
       "      <td>1.008072</td>\n",
       "      <td>0.670201</td>\n",
       "      <td>0.287985</td>\n",
       "      <td>0.434101</td>\n",
       "      <td>2.168266</td>\n",
       "      <td>7.538833</td>\n",
       "    </tr>\n",
       "    <tr>\n",
       "      <th>0</th>\n",
       "      <td>Switzerland</td>\n",
       "      <td>Western Europe</td>\n",
       "      <td>1</td>\n",
       "      <td>7.587</td>\n",
       "      <td>0.03411</td>\n",
       "      <td>1.39651</td>\n",
       "      <td>1.34951</td>\n",
       "      <td>0.94143</td>\n",
       "      <td>0.66557</td>\n",
       "      <td>0.41978</td>\n",
       "      <td>...</td>\n",
       "      <td>0.303728</td>\n",
       "      <td>1.972317</td>\n",
       "      <td>1.390774</td>\n",
       "      <td>1.472403</td>\n",
       "      <td>1.040533</td>\n",
       "      <td>0.628954</td>\n",
       "      <td>0.269056</td>\n",
       "      <td>0.407946</td>\n",
       "      <td>2.350267</td>\n",
       "      <td>7.520650</td>\n",
       "    </tr>\n",
       "    <tr>\n",
       "      <th>1</th>\n",
       "      <td>Iceland</td>\n",
       "      <td>Western Europe</td>\n",
       "      <td>2</td>\n",
       "      <td>7.561</td>\n",
       "      <td>0.04884</td>\n",
       "      <td>1.30232</td>\n",
       "      <td>1.40223</td>\n",
       "      <td>0.94784</td>\n",
       "      <td>0.62877</td>\n",
       "      <td>0.14145</td>\n",
       "      <td>...</td>\n",
       "      <td>0.711710</td>\n",
       "      <td>1.972317</td>\n",
       "      <td>1.326502</td>\n",
       "      <td>1.547567</td>\n",
       "      <td>1.000843</td>\n",
       "      <td>0.661981</td>\n",
       "      <td>0.362330</td>\n",
       "      <td>0.144541</td>\n",
       "      <td>2.460688</td>\n",
       "      <td>7.510083</td>\n",
       "    </tr>\n",
       "  </tbody>\n",
       "</table>\n",
       "<p>5 rows × 82 columns</p>\n",
       "</div>"
      ],
      "text/plain": [
       "       Country     Region_2015  Happiness Rank_2015  Happiness Score_2015  \\\n",
       "5      Finland  Western Europe                    6                 7.406   \n",
       "2      Denmark  Western Europe                    3                 7.527   \n",
       "3       Norway  Western Europe                    4                 7.522   \n",
       "0  Switzerland  Western Europe                    1                 7.587   \n",
       "1      Iceland  Western Europe                    2                 7.561   \n",
       "\n",
       "   Standard Error  Economy (GDP per Capita)  Family_2015  \\\n",
       "5         0.03140                   1.29025      1.31826   \n",
       "2         0.03328                   1.32548      1.36058   \n",
       "3         0.03880                   1.45900      1.33095   \n",
       "0         0.03411                   1.39651      1.34951   \n",
       "1         0.04884                   1.30232      1.40223   \n",
       "\n",
       "   Life Expectancy_2015  Freedom_2015  Trust_2015  ...  Trust_2020  \\\n",
       "5               0.88911       0.64169     0.41372  ...    0.195445   \n",
       "2               0.87464       0.64938     0.48357  ...    0.168489   \n",
       "3               0.88521       0.66973     0.36503  ...    0.263218   \n",
       "0               0.94143       0.66557     0.41978  ...    0.303728   \n",
       "1               0.94784       0.62877     0.14145  ...    0.711710   \n",
       "\n",
       "   Ladder score in Dystopia Explained by: Log GDP per capita  \\\n",
       "5                  1.972317                         1.285190   \n",
       "2                  1.972317                         1.326949   \n",
       "3                  1.972317                         1.424207   \n",
       "0                  1.972317                         1.390774   \n",
       "1                  1.972317                         1.326502   \n",
       "\n",
       "   Explained by: Social support  Explained by: Healthy life expectancy  \\\n",
       "5                      1.499526                               0.961271   \n",
       "2                      1.503449                               0.979333   \n",
       "3                      1.495173                               1.008072   \n",
       "0                      1.472403                               1.040533   \n",
       "1                      1.547567                               1.000843   \n",
       "\n",
       "   Explained by: Freedom to make life choices  Explained by: Generosity  \\\n",
       "5                                    0.662317                  0.159670   \n",
       "2                                    0.665040                  0.242793   \n",
       "3                                    0.670201                  0.287985   \n",
       "0                                    0.628954                  0.269056   \n",
       "1                                    0.661981                  0.362330   \n",
       "\n",
       "   Explained by: Perceptions of corruption  Dystopia + residual  \\\n",
       "5                                 0.477857             2.762835   \n",
       "2                                 0.495260             2.432741   \n",
       "3                                 0.434101             2.168266   \n",
       "0                                 0.407946             2.350267   \n",
       "1                                 0.144541             2.460688   \n",
       "\n",
       "   Average Happiness  \n",
       "5           7.560117  \n",
       "2           7.555100  \n",
       "3           7.538833  \n",
       "0           7.520650  \n",
       "1           7.510083  \n",
       "\n",
       "[5 rows x 82 columns]"
      ]
     },
     "execution_count": 37,
     "metadata": {},
     "output_type": "execute_result"
    }
   ],
   "source": [
    "# top 5 happiest countries\n",
    "df.head(n=5)"
   ]
  },
  {
   "cell_type": "markdown",
   "metadata": {},
   "source": [
    "On the contrary, the .tail() funciton gives the bottom entries of a dataframe. The n=5 signifies that we want the bottom 5 entries."
   ]
  },
  {
   "cell_type": "code",
   "execution_count": 38,
   "metadata": {},
   "outputs": [
    {
     "data": {
      "text/html": [
       "<div>\n",
       "<style scoped>\n",
       "    .dataframe tbody tr th:only-of-type {\n",
       "        vertical-align: middle;\n",
       "    }\n",
       "\n",
       "    .dataframe tbody tr th {\n",
       "        vertical-align: top;\n",
       "    }\n",
       "\n",
       "    .dataframe thead th {\n",
       "        text-align: right;\n",
       "    }\n",
       "</style>\n",
       "<table border=\"1\" class=\"dataframe\">\n",
       "  <thead>\n",
       "    <tr style=\"text-align: right;\">\n",
       "      <th></th>\n",
       "      <th>Country</th>\n",
       "      <th>Region_2015</th>\n",
       "      <th>Happiness Rank_2015</th>\n",
       "      <th>Happiness Score_2015</th>\n",
       "      <th>Standard Error</th>\n",
       "      <th>Economy (GDP per Capita)</th>\n",
       "      <th>Family_2015</th>\n",
       "      <th>Life Expectancy_2015</th>\n",
       "      <th>Freedom_2015</th>\n",
       "      <th>Trust_2015</th>\n",
       "      <th>...</th>\n",
       "      <th>Trust_2020</th>\n",
       "      <th>Ladder score in Dystopia</th>\n",
       "      <th>Explained by: Log GDP per capita</th>\n",
       "      <th>Explained by: Social support</th>\n",
       "      <th>Explained by: Healthy life expectancy</th>\n",
       "      <th>Explained by: Freedom to make life choices</th>\n",
       "      <th>Explained by: Generosity</th>\n",
       "      <th>Explained by: Perceptions of corruption</th>\n",
       "      <th>Dystopia + residual</th>\n",
       "      <th>Average Happiness</th>\n",
       "    </tr>\n",
       "  </thead>\n",
       "  <tbody>\n",
       "    <tr>\n",
       "      <th>119</th>\n",
       "      <td>Yemen</td>\n",
       "      <td>Middle East and Northern Africa</td>\n",
       "      <td>136</td>\n",
       "      <td>4.077</td>\n",
       "      <td>0.04367</td>\n",
       "      <td>0.54649</td>\n",
       "      <td>0.68093</td>\n",
       "      <td>0.40064</td>\n",
       "      <td>0.35571</td>\n",
       "      <td>0.07854</td>\n",
       "      <td>...</td>\n",
       "      <td>0.800288</td>\n",
       "      <td>1.972317</td>\n",
       "      <td>0.392702</td>\n",
       "      <td>1.177477</td>\n",
       "      <td>0.415000</td>\n",
       "      <td>0.243721</td>\n",
       "      <td>0.094689</td>\n",
       "      <td>0.087352</td>\n",
       "      <td>1.116473</td>\n",
       "      <td>3.605233</td>\n",
       "    </tr>\n",
       "    <tr>\n",
       "      <th>127</th>\n",
       "      <td>Tanzania</td>\n",
       "      <td>Sub-Saharan Africa</td>\n",
       "      <td>146</td>\n",
       "      <td>3.781</td>\n",
       "      <td>0.05061</td>\n",
       "      <td>0.28520</td>\n",
       "      <td>1.00268</td>\n",
       "      <td>0.38215</td>\n",
       "      <td>0.32878</td>\n",
       "      <td>0.05747</td>\n",
       "      <td>...</td>\n",
       "      <td>0.619799</td>\n",
       "      <td>1.972317</td>\n",
       "      <td>0.457163</td>\n",
       "      <td>0.872675</td>\n",
       "      <td>0.442678</td>\n",
       "      <td>0.509343</td>\n",
       "      <td>0.271541</td>\n",
       "      <td>0.203881</td>\n",
       "      <td>0.718963</td>\n",
       "      <td>3.479700</td>\n",
       "    </tr>\n",
       "    <tr>\n",
       "      <th>134</th>\n",
       "      <td>Rwanda</td>\n",
       "      <td>Sub-Saharan Africa</td>\n",
       "      <td>154</td>\n",
       "      <td>3.465</td>\n",
       "      <td>0.03464</td>\n",
       "      <td>0.22208</td>\n",
       "      <td>0.77370</td>\n",
       "      <td>0.42864</td>\n",
       "      <td>0.59201</td>\n",
       "      <td>0.55191</td>\n",
       "      <td>...</td>\n",
       "      <td>0.183541</td>\n",
       "      <td>1.972317</td>\n",
       "      <td>0.343243</td>\n",
       "      <td>0.522876</td>\n",
       "      <td>0.572383</td>\n",
       "      <td>0.604088</td>\n",
       "      <td>0.235705</td>\n",
       "      <td>0.485542</td>\n",
       "      <td>0.548445</td>\n",
       "      <td>3.429883</td>\n",
       "    </tr>\n",
       "    <tr>\n",
       "      <th>133</th>\n",
       "      <td>Afghanistan</td>\n",
       "      <td>Southern Asia</td>\n",
       "      <td>153</td>\n",
       "      <td>3.575</td>\n",
       "      <td>0.03084</td>\n",
       "      <td>0.31982</td>\n",
       "      <td>0.30285</td>\n",
       "      <td>0.30335</td>\n",
       "      <td>0.23414</td>\n",
       "      <td>0.09719</td>\n",
       "      <td>...</td>\n",
       "      <td>0.933687</td>\n",
       "      <td>1.972317</td>\n",
       "      <td>0.300706</td>\n",
       "      <td>0.356434</td>\n",
       "      <td>0.266052</td>\n",
       "      <td>0.000000</td>\n",
       "      <td>0.135235</td>\n",
       "      <td>0.001226</td>\n",
       "      <td>1.507236</td>\n",
       "      <td>3.426650</td>\n",
       "    </tr>\n",
       "    <tr>\n",
       "      <th>136</th>\n",
       "      <td>Burundi</td>\n",
       "      <td>Sub-Saharan Africa</td>\n",
       "      <td>157</td>\n",
       "      <td>2.905</td>\n",
       "      <td>0.08658</td>\n",
       "      <td>0.01530</td>\n",
       "      <td>0.41587</td>\n",
       "      <td>0.22396</td>\n",
       "      <td>0.11850</td>\n",
       "      <td>0.10062</td>\n",
       "      <td>...</td>\n",
       "      <td>0.606935</td>\n",
       "      <td>1.972317</td>\n",
       "      <td>0.000000</td>\n",
       "      <td>0.403575</td>\n",
       "      <td>0.295213</td>\n",
       "      <td>0.275399</td>\n",
       "      <td>0.187402</td>\n",
       "      <td>0.212187</td>\n",
       "      <td>2.401507</td>\n",
       "      <td>3.050050</td>\n",
       "    </tr>\n",
       "  </tbody>\n",
       "</table>\n",
       "<p>5 rows × 82 columns</p>\n",
       "</div>"
      ],
      "text/plain": [
       "         Country                      Region_2015  Happiness Rank_2015  \\\n",
       "119        Yemen  Middle East and Northern Africa                  136   \n",
       "127     Tanzania               Sub-Saharan Africa                  146   \n",
       "134       Rwanda               Sub-Saharan Africa                  154   \n",
       "133  Afghanistan                    Southern Asia                  153   \n",
       "136      Burundi               Sub-Saharan Africa                  157   \n",
       "\n",
       "     Happiness Score_2015  Standard Error  Economy (GDP per Capita)  \\\n",
       "119                 4.077         0.04367                   0.54649   \n",
       "127                 3.781         0.05061                   0.28520   \n",
       "134                 3.465         0.03464                   0.22208   \n",
       "133                 3.575         0.03084                   0.31982   \n",
       "136                 2.905         0.08658                   0.01530   \n",
       "\n",
       "     Family_2015  Life Expectancy_2015  Freedom_2015  Trust_2015  ...  \\\n",
       "119      0.68093               0.40064       0.35571     0.07854  ...   \n",
       "127      1.00268               0.38215       0.32878     0.05747  ...   \n",
       "134      0.77370               0.42864       0.59201     0.55191  ...   \n",
       "133      0.30285               0.30335       0.23414     0.09719  ...   \n",
       "136      0.41587               0.22396       0.11850     0.10062  ...   \n",
       "\n",
       "     Trust_2020  Ladder score in Dystopia Explained by: Log GDP per capita  \\\n",
       "119    0.800288                  1.972317                         0.392702   \n",
       "127    0.619799                  1.972317                         0.457163   \n",
       "134    0.183541                  1.972317                         0.343243   \n",
       "133    0.933687                  1.972317                         0.300706   \n",
       "136    0.606935                  1.972317                         0.000000   \n",
       "\n",
       "     Explained by: Social support  Explained by: Healthy life expectancy  \\\n",
       "119                      1.177477                               0.415000   \n",
       "127                      0.872675                               0.442678   \n",
       "134                      0.522876                               0.572383   \n",
       "133                      0.356434                               0.266052   \n",
       "136                      0.403575                               0.295213   \n",
       "\n",
       "     Explained by: Freedom to make life choices  Explained by: Generosity  \\\n",
       "119                                    0.243721                  0.094689   \n",
       "127                                    0.509343                  0.271541   \n",
       "134                                    0.604088                  0.235705   \n",
       "133                                    0.000000                  0.135235   \n",
       "136                                    0.275399                  0.187402   \n",
       "\n",
       "     Explained by: Perceptions of corruption  Dystopia + residual  \\\n",
       "119                                 0.087352             1.116473   \n",
       "127                                 0.203881             0.718963   \n",
       "134                                 0.485542             0.548445   \n",
       "133                                 0.001226             1.507236   \n",
       "136                                 0.212187             2.401507   \n",
       "\n",
       "     Average Happiness  \n",
       "119           3.605233  \n",
       "127           3.479700  \n",
       "134           3.429883  \n",
       "133           3.426650  \n",
       "136           3.050050  \n",
       "\n",
       "[5 rows x 82 columns]"
      ]
     },
     "execution_count": 38,
     "metadata": {},
     "output_type": "execute_result"
    }
   ],
   "source": [
    "# bottom 5 least happiest countries\n",
    "df.tail(n=5)"
   ]
  },
  {
   "cell_type": "markdown",
   "metadata": {},
   "source": [
    "## Determining Factors that Contribute to Happiness"
   ]
  },
  {
   "cell_type": "markdown",
   "metadata": {},
   "source": [
    "Now, we want to explore any possible correlations between the top 5 happiest countries versus the lowest 5 happiest countries. We will take the average of the GDP, life expectency, freedom, trust, and generosity of the bottom 5 countries over 5 years and compare them to the same data using the top 5 countries over 5 years.\n",
    "First, we want to take the 5 year average of each country in the top 5 and bottom 5 years and create a new dataframe for each."
   ]
  },
  {
   "cell_type": "markdown",
   "metadata": {},
   "source": [
    "We for each country in the bottom 5 countries, we average all 5 years of each of the 5 attributes. To better organize our data, we will make a new dataframe called bottom_averages and assign each column to a computed average. "
   ]
  },
  {
   "cell_type": "code",
   "execution_count": 76,
   "metadata": {},
   "outputs": [
    {
     "data": {
      "text/html": [
       "<div>\n",
       "<style scoped>\n",
       "    .dataframe tbody tr th:only-of-type {\n",
       "        vertical-align: middle;\n",
       "    }\n",
       "\n",
       "    .dataframe tbody tr th {\n",
       "        vertical-align: top;\n",
       "    }\n",
       "\n",
       "    .dataframe thead th {\n",
       "        text-align: right;\n",
       "    }\n",
       "</style>\n",
       "<table border=\"1\" class=\"dataframe\">\n",
       "  <thead>\n",
       "    <tr style=\"text-align: right;\">\n",
       "      <th></th>\n",
       "      <th>Country</th>\n",
       "      <th>Average GDP</th>\n",
       "      <th>Average Life Expectancy</th>\n",
       "      <th>Average Freedom</th>\n",
       "      <th>Average Trust</th>\n",
       "      <th>Average Generosity</th>\n",
       "    </tr>\n",
       "  </thead>\n",
       "  <tbody>\n",
       "    <tr>\n",
       "      <th>119</th>\n",
       "      <td>Yemen</td>\n",
       "      <td>1.726874</td>\n",
       "      <td>9.739081</td>\n",
       "      <td>0.320299</td>\n",
       "      <td>0.187086</td>\n",
       "      <td>0.050318</td>\n",
       "    </tr>\n",
       "    <tr>\n",
       "      <th>127</th>\n",
       "      <td>Tanzania</td>\n",
       "      <td>1.690925</td>\n",
       "      <td>9.893622</td>\n",
       "      <td>0.469990</td>\n",
       "      <td>0.164716</td>\n",
       "      <td>0.277069</td>\n",
       "    </tr>\n",
       "    <tr>\n",
       "      <th>134</th>\n",
       "      <td>Rwanda</td>\n",
       "      <td>1.530565</td>\n",
       "      <td>10.495427</td>\n",
       "      <td>0.648274</td>\n",
       "      <td>0.430647</td>\n",
       "      <td>0.195007</td>\n",
       "    </tr>\n",
       "    <tr>\n",
       "      <th>133</th>\n",
       "      <td>Afghanistan</td>\n",
       "      <td>1.538405</td>\n",
       "      <td>8.959589</td>\n",
       "      <td>0.178532</td>\n",
       "      <td>0.205859</td>\n",
       "      <td>0.212537</td>\n",
       "    </tr>\n",
       "    <tr>\n",
       "      <th>136</th>\n",
       "      <td>Burundi</td>\n",
       "      <td>1.141646</td>\n",
       "      <td>9.037174</td>\n",
       "      <td>0.162992</td>\n",
       "      <td>0.172982</td>\n",
       "      <td>0.147509</td>\n",
       "    </tr>\n",
       "  </tbody>\n",
       "</table>\n",
       "</div>"
      ],
      "text/plain": [
       "         Country  Average GDP  Average Life Expectancy  Average Freedom  \\\n",
       "119        Yemen     1.726874                 9.739081         0.320299   \n",
       "127     Tanzania     1.690925                 9.893622         0.469990   \n",
       "134       Rwanda     1.530565                10.495427         0.648274   \n",
       "133  Afghanistan     1.538405                 8.959589         0.178532   \n",
       "136      Burundi     1.141646                 9.037174         0.162992   \n",
       "\n",
       "     Average Trust  Average Generosity  \n",
       "119       0.187086            0.050318  \n",
       "127       0.164716            0.277069  \n",
       "134       0.430647            0.195007  \n",
       "133       0.205859            0.212537  \n",
       "136       0.172982            0.147509  "
      ]
     },
     "execution_count": 76,
     "metadata": {},
     "output_type": "execute_result"
    }
   ],
   "source": [
    "bottom_averages = pd.DataFrame() \n",
    "bottom_df = df.tail(n=5)\n",
    "bottom_countries = bottom_df['Country']\n",
    "bottom_averages['Country'] = bottom_countries\n",
    "gdp_averages = []\n",
    "lifeExp_averages = []\n",
    "freedom_averages = []\n",
    "trust_averages = []\n",
    "generosity_averages = []\n",
    "for country in bottom_countries:\n",
    "    bottom = bottom_df[bottom_df['Country'] == country]\n",
    "    sumGDP = 0\n",
    "    x2015 = bottom.iloc[0]['Economy (GDP per Capita)']\n",
    "    x2016 = bottom.iloc[0]['GDP']\n",
    "    x2017 = bottom.iloc[0]['GDP_2017'][0]\n",
    "    x2018 = bottom.iloc[0]['GDP_2018']\n",
    "    x2019 = bottom.iloc[0]['GDP_2019']\n",
    "    x2020 = bottom.iloc[0]['GDP_2020']\n",
    "    sumGDP = x2015+x2016+x2017+x2018+x2018+x2020\n",
    "    GDPavg = sumGDP/6.0\n",
    "    gdp_averages.append(GDPavg)\n",
    "    \n",
    "    sumLifeExp = 0\n",
    "    x2015 = bottom.iloc[0]['Life Expectancy_2015']\n",
    "    x2016 = bottom.iloc[0]['Life Expectancy_2016']\n",
    "    x2017 = bottom.iloc[0]['Life Expectancy_2017']\n",
    "    x2018 = bottom.iloc[0]['Life Expectancy_2018']\n",
    "    x2019 = bottom.iloc[0]['Life Expectancy_2019']\n",
    "    x2020 = bottom.iloc[0]['Life Expectancy_2020']\n",
    "    sumLifeExp = x2015+x2016+x2017+x2018+x2018+x2020\n",
    "    lifeExp_avg = sumLifeExp/6.0\n",
    "    lifeExp_averages.append(lifeExp_avg)\n",
    "    \n",
    "    sumFreedom = 0\n",
    "    x2015 = bottom.iloc[0]['Freedom_2015']\n",
    "    x2016 = bottom.iloc[0]['Freedom_2016']\n",
    "    x2017 = bottom.iloc[0]['Freedom_2017']\n",
    "    x2018 = bottom.iloc[0]['Freedom_2018']\n",
    "    x2019 = bottom.iloc[0]['Freedom_2019']\n",
    "    x2020 = bottom.iloc[0]['Freedom_2020']\n",
    "    sumFreedom = x2015+x2016+x2017+x2018+x2018+x2020\n",
    "    freedom_avg = sumFreedom/6.0\n",
    "    \n",
    "    freedom_averages.append(freedom_avg)\n",
    "    \n",
    "    sumTrust = 0\n",
    "    x2015 = bottom.iloc[0]['Trust_2015']\n",
    "    x2016 = bottom.iloc[0]['Trust_2016']\n",
    "    x2017 = bottom.iloc[0]['Trust_2017']\n",
    "    x2018 = bottom.iloc[0]['Trust_2018']\n",
    "    x2019 = bottom.iloc[0]['Trust_2019']\n",
    "    x2020 = bottom.iloc[0]['Trust_2020']\n",
    "    sumTrust = x2015+x2016+x2017+x2018+x2018+x2020\n",
    "    trust_avg = sumTrust/6.0\n",
    "    \n",
    "    trust_averages.append(trust_avg)\n",
    "    \n",
    "    sumGenerosity = 0\n",
    "    x2015 = bottom.iloc[0]['Generosity_2015']\n",
    "    x2016 = bottom.iloc[0]['Generosity_2016']\n",
    "    x2017 = bottom.iloc[0]['Generosity_2017']\n",
    "    x2018 = bottom.iloc[0]['Generosity_2018']\n",
    "    x2019 = bottom.iloc[0]['Generosity_2019']\n",
    "    x2020 = bottom.iloc[0]['Generosity_2020']\n",
    "    sumGenerosity = x2015+x2016+x2017+x2018+x2018+x2020\n",
    "    generosity_avg = sumGenerosity/6.0\n",
    "    \n",
    "    generosity_averages.append(generosity_avg)\n",
    "    \n",
    "\n",
    "bottom_averages['Average GDP'] = gdp_averages\n",
    "bottom_averages['Average Life Expectancy'] = lifeExp_averages\n",
    "bottom_averages['Average Freedom'] = freedom_averages\n",
    "bottom_averages['Average Trust'] = trust_averages\n",
    "bottom_averages['Average Generosity'] = generosity_averages\n",
    "bottom_averages.head() "
   ]
  },
  {
   "cell_type": "markdown",
   "metadata": {},
   "source": [
    "We repeat the previous step but use the top 5 averages. "
   ]
  },
  {
   "cell_type": "code",
   "execution_count": 78,
   "metadata": {},
   "outputs": [
    {
     "data": {
      "text/html": [
       "<div>\n",
       "<style scoped>\n",
       "    .dataframe tbody tr th:only-of-type {\n",
       "        vertical-align: middle;\n",
       "    }\n",
       "\n",
       "    .dataframe tbody tr th {\n",
       "        vertical-align: top;\n",
       "    }\n",
       "\n",
       "    .dataframe thead th {\n",
       "        text-align: right;\n",
       "    }\n",
       "</style>\n",
       "<table border=\"1\" class=\"dataframe\">\n",
       "  <thead>\n",
       "    <tr style=\"text-align: right;\">\n",
       "      <th></th>\n",
       "      <th>Country</th>\n",
       "      <th>Average GDP</th>\n",
       "      <th>Average Life Expectancy</th>\n",
       "      <th>Average Freedom</th>\n",
       "      <th>Average Trust</th>\n",
       "      <th>Average Generosity</th>\n",
       "    </tr>\n",
       "  </thead>\n",
       "  <tbody>\n",
       "    <tr>\n",
       "      <th>5</th>\n",
       "      <td>Finland</td>\n",
       "      <td>2.898178</td>\n",
       "      <td>12.693001</td>\n",
       "      <td>0.690309</td>\n",
       "      <td>0.364636</td>\n",
       "      <td>0.179738</td>\n",
       "    </tr>\n",
       "    <tr>\n",
       "      <th>2</th>\n",
       "      <td>Denmark</td>\n",
       "      <td>2.954274</td>\n",
       "      <td>12.766792</td>\n",
       "      <td>0.695373</td>\n",
       "      <td>0.385560</td>\n",
       "      <td>0.282097</td>\n",
       "    </tr>\n",
       "    <tr>\n",
       "      <th>3</th>\n",
       "      <td>Norway</td>\n",
       "      <td>3.108785</td>\n",
       "      <td>12.900075</td>\n",
       "      <td>0.704832</td>\n",
       "      <td>0.330329</td>\n",
       "      <td>0.299081</td>\n",
       "    </tr>\n",
       "    <tr>\n",
       "      <th>0</th>\n",
       "      <td>Switzerland</td>\n",
       "      <td>3.051459</td>\n",
       "      <td>13.103173</td>\n",
       "      <td>0.685425</td>\n",
       "      <td>0.369424</td>\n",
       "      <td>0.247678</td>\n",
       "    </tr>\n",
       "    <tr>\n",
       "      <th>1</th>\n",
       "      <td>Iceland</td>\n",
       "      <td>2.944695</td>\n",
       "      <td>12.912787</td>\n",
       "      <td>0.687511</td>\n",
       "      <td>0.238739</td>\n",
       "      <td>0.390261</td>\n",
       "    </tr>\n",
       "  </tbody>\n",
       "</table>\n",
       "</div>"
      ],
      "text/plain": [
       "       Country  Average GDP  Average Life Expectancy  Average Freedom  \\\n",
       "5      Finland     2.898178                12.693001         0.690309   \n",
       "2      Denmark     2.954274                12.766792         0.695373   \n",
       "3       Norway     3.108785                12.900075         0.704832   \n",
       "0  Switzerland     3.051459                13.103173         0.685425   \n",
       "1      Iceland     2.944695                12.912787         0.687511   \n",
       "\n",
       "   Average Trust  Average Generosity  \n",
       "5       0.364636            0.179738  \n",
       "2       0.385560            0.282097  \n",
       "3       0.330329            0.299081  \n",
       "0       0.369424            0.247678  \n",
       "1       0.238739            0.390261  "
      ]
     },
     "execution_count": 78,
     "metadata": {},
     "output_type": "execute_result"
    }
   ],
   "source": [
    "top_averages = pd.DataFrame() \n",
    "top_df = df.head(n=5)\n",
    "top_countries = top_df['Country']\n",
    "top_averages['Country'] = top_countries\n",
    "gdp_averages = []\n",
    "lifeExp_averages = []\n",
    "freedom_averages = []\n",
    "trust_averages = []\n",
    "generosity_averages = []\n",
    "for country in top_countries:\n",
    "    top = top_df[top_df['Country'] == country]\n",
    "    sumGDP = 0\n",
    "    x2015 = top.iloc[0]['Economy (GDP per Capita)']\n",
    "    x2016 = top.iloc[0]['GDP']\n",
    "    x2017 = top.iloc[0]['GDP_2017'][0]\n",
    "    x2018 = top.iloc[0]['GDP_2018']\n",
    "    x2019 = top.iloc[0]['GDP_2019']\n",
    "    x2020 = top.iloc[0]['GDP_2020']\n",
    "    sumGDP = x2015+x2016+x2017+x2018+x2018+x2020\n",
    "    GDPavg = sumGDP/6.0\n",
    "    \n",
    "    gdp_averages.append(GDPavg)\n",
    "    \n",
    "    sumLifeExp = 0\n",
    "    x2015 = top.iloc[0]['Life Expectancy_2015']\n",
    "    x2016 = top.iloc[0]['Life Expectancy_2016']\n",
    "    x2017 = top.iloc[0]['Life Expectancy_2017']\n",
    "    x2018 = top.iloc[0]['Life Expectancy_2018']\n",
    "    x2019 = top.iloc[0]['Life Expectancy_2019']\n",
    "    x2020 = top.iloc[0]['Life Expectancy_2020']\n",
    "    sumLifeExp = x2015+x2016+x2017+x2018+x2018+x2020\n",
    "    lifeExp_avg = sumLifeExp/6.0\n",
    "    \n",
    "    lifeExp_averages.append(lifeExp_avg)\n",
    "    \n",
    "    sumFreedom = 0\n",
    "    x2015 = top.iloc[0]['Freedom_2015']\n",
    "    x2016 = top.iloc[0]['Freedom_2016']\n",
    "    x2017 = top.iloc[0]['Freedom_2017']\n",
    "    x2018 = top.iloc[0]['Freedom_2018']\n",
    "    x2019 = top.iloc[0]['Freedom_2019']\n",
    "    x2020 = top.iloc[0]['Freedom_2020']\n",
    "    sumFreedom = x2015+x2016+x2017+x2018+x2018+x2020\n",
    "    freedom_avg = sumFreedom/6.0\n",
    "    \n",
    "    freedom_averages.append(freedom_avg)\n",
    "    \n",
    "    sumTrust = 0\n",
    "    x2015 = top.iloc[0]['Trust_2015']\n",
    "    x2016 = top.iloc[0]['Trust_2016']\n",
    "    x2017 = top.iloc[0]['Trust_2017']\n",
    "    x2018 = top.iloc[0]['Trust_2018']\n",
    "    x2019 = top.iloc[0]['Trust_2019']\n",
    "    x2020 = top.iloc[0]['Trust_2020']\n",
    "    sumTrust = x2015+x2016+x2017+x2018+x2018+x2020\n",
    "    trust_avg = sumTrust/6.0\n",
    "    \n",
    "    trust_averages.append(trust_avg)\n",
    "    \n",
    "    sumGenerosity = 0\n",
    "    x2015 = top.iloc[0]['Generosity_2015']\n",
    "    x2016 = top.iloc[0]['Generosity_2016']\n",
    "    x2017 = top.iloc[0]['Generosity_2017']\n",
    "    x2018 = top.iloc[0]['Generosity_2018']\n",
    "    x2019 = top.iloc[0]['Generosity_2019']\n",
    "    x2020 = top.iloc[0]['Generosity_2020']\n",
    "    sumGenerosity = x2015+x2016+x2017+x2018+x2018+x2020\n",
    "    generosity_avg = sumGenerosity/6.0\n",
    "    \n",
    "    generosity_averages.append(generosity_avg)\n",
    "\n",
    "top_averages['Average GDP'] = gdp_averages\n",
    "top_averages['Average Life Expectancy'] = lifeExp_averages\n",
    "top_averages['Average Freedom'] = freedom_averages\n",
    "top_averages['Average Trust'] = trust_averages\n",
    "top_averages['Average Generosity'] = generosity_averages\n",
    "top_averages.head()"
   ]
  },
  {
   "cell_type": "markdown",
   "metadata": {},
   "source": [
    "Now we want to compare the average data from the top 5 years to the bottom 5 years and plot them. We will plot the top 5 and bottom 5 averages per country next to each other to best see the relation between the two. In order to plot both the data from the top and the bottom, we can call plt.scatter one after another and they will appear on the same graph. We put the country on the X axis and the average GDP on the Y axis. We do this by accessing the 'Country' and 'Average GDP' columns in the top_averages and bottom_averages dataframes created above and setting them to the x and y values."
   ]
  },
  {
   "cell_type": "markdown",
   "metadata": {},
   "source": [
    "Matplotlib's plt.scatter is one way of plotting data. Complete documentation can be found here: https://matplotlib.org/3.3.3/api/_as_gen/matplotlib.pyplot.scatter.html\n",
    "\n",
    "However, matplotlib provides many alternatives to plotting data. This can be explored here: https://matplotlib.org/."
   ]
  },
  {
   "cell_type": "code",
   "execution_count": 85,
   "metadata": {},
   "outputs": [
    {
     "data": {
      "text/plain": [
       "Text(0, 0.5, 'Average GDP')"
      ]
     },
     "execution_count": 85,
     "metadata": {},
     "output_type": "execute_result"
    },
    {
     "data": {
      "image/png": "[encoded data removed]",
      "text/plain": [
       "<Figure size 432x288 with 1 Axes>"
      ]
     },
     "metadata": {
      "needs_background": "light"
     },
     "output_type": "display_data"
    }
   ],
   "source": [
    "# for column in top_averages.columns.tolist()[1:]:\n",
    "plt.scatter(x = top_averages['Country'], y = top_averages['Average GDP'])\n",
    "plt.scatter(x = bottom_averages['Country'], y = bottom_averages['Average GDP'])\n",
    "plt.xlabel('Country')\n",
    "plt.ylabel('Average GDP')"
   ]
  },
  {
   "cell_type": "markdown",
   "metadata": {},
   "source": [
    "From this plot, we learned that the top 5 happiest countries average between 2.74 and 4.00 GDP while the bottom 5 countries average below 2.00. This is a simple visualization that allows us to recognize patterns such as this one."
   ]
  },
  {
   "cell_type": "markdown",
   "metadata": {},
   "source": [
    "You can see that the Y axis shows a scale of GDP and the X axis shows the countries. Since we used scatter using two different datasets (bottom and top), scatter divided the points into colors depending on the plot. We will now repeat this step for life expectancy, freedom, trust, and generosity."
   ]
  },
  {
   "cell_type": "code",
   "execution_count": 86,
   "metadata": {},
   "outputs": [
    {
     "data": {
      "text/plain": [
       "Text(0, 0.5, 'Average Life Expectancy')"
      ]
     },
     "execution_count": 86,
     "metadata": {},
     "output_type": "execute_result"
    },
    {
     "data": {
      "image/png": "[encoded data removed]",
      "text/plain": [
       "<Figure size 432x288 with 1 Axes>"
      ]
     },
     "metadata": {
      "needs_background": "light"
     },
     "output_type": "display_data"
    }
   ],
   "source": [
    "plt.scatter(x = top_averages['Country'], y = top_averages['Average Life Expectancy'])\n",
    "plt.scatter(x = bottom_averages['Country'], y = bottom_averages['Average Life Expectancy'])\n",
    "plt.xlabel('Country')\n",
    "plt.ylabel('Average Life Expectancy')"
   ]
  },
  {
   "cell_type": "code",
   "execution_count": 87,
   "metadata": {},
   "outputs": [
    {
     "data": {
      "text/plain": [
       "Text(0, 0.5, 'Average Freedom')"
      ]
     },
     "execution_count": 87,
     "metadata": {},
     "output_type": "execute_result"
    },
    {
     "data": {
      "image/png": "[encoded data removed]",
      "text/plain": [
       "<Figure size 432x288 with 1 Axes>"
      ]
     },
     "metadata": {
      "needs_background": "light"
     },
     "output_type": "display_data"
    }
   ],
   "source": [
    "plt.scatter(x = top_averages['Country'], y = top_averages['Average Freedom'])\n",
    "plt.scatter(x = bottom_averages['Country'], y = bottom_averages['Average Freedom'])\n",
    "plt.xlabel('Country')\n",
    "plt.ylabel('Average Freedom')"
   ]
  },
  {
   "cell_type": "code",
   "execution_count": 88,
   "metadata": {},
   "outputs": [
    {
     "data": {
      "text/plain": [
       "Text(0, 0.5, 'Average Trust')"
      ]
     },
     "execution_count": 88,
     "metadata": {},
     "output_type": "execute_result"
    },
    {
     "data": {
      "image/png": "[encoded data removed]",
      "text/plain": [
       "<Figure size 432x288 with 1 Axes>"
      ]
     },
     "metadata": {
      "needs_background": "light"
     },
     "output_type": "display_data"
    }
   ],
   "source": [
    "plt.scatter(x = top_averages['Country'], y = top_averages['Average Trust'])\n",
    "plt.scatter(x = bottom_averages['Country'], y = bottom_averages['Average Trust'])\n",
    "plt.xlabel('Country')\n",
    "plt.ylabel('Average Trust')"
   ]
  },
  {
   "cell_type": "code",
   "execution_count": 89,
   "metadata": {
    "scrolled": false
   },
   "outputs": [
    {
     "data": {
      "text/plain": [
       "Text(0, 0.5, 'Average Generosity')"
      ]
     },
     "execution_count": 89,
     "metadata": {},
     "output_type": "execute_result"
    },
    {
     "data": {
      "image/png": "[encoded data removed]",
      "text/plain": [
       "<Figure size 432x288 with 1 Axes>"
      ]
     },
     "metadata": {
      "needs_background": "light"
     },
     "output_type": "display_data"
    }
   ],
   "source": [
    "plt.scatter(x = top_averages['Country'], y = top_averages['Average Generosity'])\n",
    "plt.scatter(x = bottom_averages['Country'], y = bottom_averages['Average Generosity'])\n",
    "plt.xlabel('Country')\n",
    "plt.ylabel('Average Generosity')"
   ]
  },
  {
   "cell_type": "markdown",
   "metadata": {},
   "source": [
    "Throughout the 5 graphs, we see that GDP and life expectancy show very clear disinctions between the top 5 and the bottom 5 countries. Though there is still a distinction between countries with freedom, trust, and generosity, there is much more overlap between the values in the top 5 and the bottom 5. "
   ]
  },
  {
   "cell_type": "markdown",
   "metadata": {},
   "source": [
    "Here, there is a very clear distinction between the GDP in the top 5 countries vs the GDP in the bottom 5 countries. Becuase of this, we will run a regression to understand the relation between GDP and overall happiness. We run this on the entire dataframe to understand how all the values show relation. "
   ]
  },
  {
   "cell_type": "code",
   "execution_count": 95,
   "metadata": {
    "scrolled": true
   },
   "outputs": [
    {
     "data": {
      "text/html": [
       "<table class=\"simpletable\">\n",
       "<caption>OLS Regression Results</caption>\n",
       "<tr>\n",
       "  <th>Dep. Variable:</th>        <td>Happiness</td>    <th>  R-squared:         </th> <td>   0.682</td>\n",
       "</tr>\n",
       "<tr>\n",
       "  <th>Model:</th>                   <td>OLS</td>       <th>  Adj. R-squared:    </th> <td>   0.679</td>\n",
       "</tr>\n",
       "<tr>\n",
       "  <th>Method:</th>             <td>Least Squares</td>  <th>  F-statistic:       </th> <td>   291.1</td>\n",
       "</tr>\n",
       "<tr>\n",
       "  <th>Date:</th>             <td>Fri, 18 Dec 2020</td> <th>  Prob (F-statistic):</th> <td>1.32e-35</td>\n",
       "</tr>\n",
       "<tr>\n",
       "  <th>Time:</th>                 <td>16:44:50</td>     <th>  Log-Likelihood:    </th> <td> -131.87</td>\n",
       "</tr>\n",
       "<tr>\n",
       "  <th>No. Observations:</th>      <td>   138</td>      <th>  AIC:               </th> <td>   267.7</td>\n",
       "</tr>\n",
       "<tr>\n",
       "  <th>Df Residuals:</th>          <td>   136</td>      <th>  BIC:               </th> <td>   273.6</td>\n",
       "</tr>\n",
       "<tr>\n",
       "  <th>Df Model:</th>              <td>     1</td>      <th>                     </th>     <td> </td>   \n",
       "</tr>\n",
       "<tr>\n",
       "  <th>Covariance Type:</th>      <td>nonrobust</td>    <th>                     </th>     <td> </td>   \n",
       "</tr>\n",
       "</table>\n",
       "<table class=\"simpletable\">\n",
       "<tr>\n",
       "      <td></td>         <th>coef</th>     <th>std err</th>      <th>t</th>      <th>P>|t|</th>  <th>[0.025</th>    <th>0.975]</th>  \n",
       "</tr>\n",
       "<tr>\n",
       "  <th>Intercept</th> <td>    3.2264</td> <td>    0.139</td> <td>   23.156</td> <td> 0.000</td> <td>    2.951</td> <td>    3.502</td>\n",
       "</tr>\n",
       "<tr>\n",
       "  <th>GDP</th>       <td>    2.2842</td> <td>    0.134</td> <td>   17.062</td> <td> 0.000</td> <td>    2.019</td> <td>    2.549</td>\n",
       "</tr>\n",
       "</table>\n",
       "<table class=\"simpletable\">\n",
       "<tr>\n",
       "  <th>Omnibus:</th>       <td> 0.641</td> <th>  Durbin-Watson:     </th> <td>   1.296</td>\n",
       "</tr>\n",
       "<tr>\n",
       "  <th>Prob(Omnibus):</th> <td> 0.726</td> <th>  Jarque-Bera (JB):  </th> <td>   0.761</td>\n",
       "</tr>\n",
       "<tr>\n",
       "  <th>Skew:</th>          <td>-0.077</td> <th>  Prob(JB):          </th> <td>   0.684</td>\n",
       "</tr>\n",
       "<tr>\n",
       "  <th>Kurtosis:</th>      <td> 2.670</td> <th>  Cond. No.          </th> <td>    4.97</td>\n",
       "</tr>\n",
       "</table><br/><br/>Warnings:<br/>[1] Standard Errors assume that the covariance matrix of the errors is correctly specified."
      ],
      "text/plain": [
       "<class 'statsmodels.iolib.summary.Summary'>\n",
       "\"\"\"\n",
       "                            OLS Regression Results                            \n",
       "==============================================================================\n",
       "Dep. Variable:              Happiness   R-squared:                       0.682\n",
       "Model:                            OLS   Adj. R-squared:                  0.679\n",
       "Method:                 Least Squares   F-statistic:                     291.1\n",
       "Date:                Fri, 18 Dec 2020   Prob (F-statistic):           1.32e-35\n",
       "Time:                        16:44:50   Log-Likelihood:                -131.87\n",
       "No. Observations:                 138   AIC:                             267.7\n",
       "Df Residuals:                     136   BIC:                             273.6\n",
       "Df Model:                           1                                         \n",
       "Covariance Type:            nonrobust                                         \n",
       "==============================================================================\n",
       "                 coef    std err          t      P>|t|      [0.025      0.975]\n",
       "------------------------------------------------------------------------------\n",
       "Intercept      3.2264      0.139     23.156      0.000       2.951       3.502\n",
       "GDP            2.2842      0.134     17.062      0.000       2.019       2.549\n",
       "==============================================================================\n",
       "Omnibus:                        0.641   Durbin-Watson:                   1.296\n",
       "Prob(Omnibus):                  0.726   Jarque-Bera (JB):                0.761\n",
       "Skew:                          -0.077   Prob(JB):                        0.684\n",
       "Kurtosis:                       2.670   Cond. No.                         4.97\n",
       "==============================================================================\n",
       "\n",
       "Warnings:\n",
       "[1] Standard Errors assume that the covariance matrix of the errors is correctly specified.\n",
       "\"\"\""
      ]
     },
     "execution_count": 95,
     "metadata": {},
     "output_type": "execute_result"
    }
   ],
   "source": [
    "df=df.rename(columns={'Happiness Score':'Happiness'})\n",
    "\n",
    "x = df['GDP'].values.reshape(-1,1)\n",
    "y = df['Happiness'].values\n",
    "\n",
    "reg = sm.ols(formula='Happiness ~ GDP', data=df).fit()\n",
    "\n",
    "lm = linear_model.LinearRegression()\n",
    "lm.fit(x, y)\n",
    "\n",
    "reg.summary()"
   ]
  },
  {
   "cell_type": "markdown",
   "metadata": {},
   "source": [
    "We will print the p value of the regression which will show us how statistically significant the relationship between happiness and GDP is."
   ]
  },
  {
   "cell_type": "code",
   "execution_count": 96,
   "metadata": {},
   "outputs": [
    {
     "name": "stdout",
     "output_type": "stream",
     "text": [
      "\t1.3159381177526332e-35\n"
     ]
    }
   ],
   "source": [
    "print('\\t{}'.format(reg.pvalues['GDP']))"
   ]
  },
  {
   "cell_type": "markdown",
   "metadata": {},
   "source": [
    "Since the p value is very low, we recognize a high statistical significance between GDP and Happiness, which we assumed previously based on the plot."
   ]
  },
  {
   "cell_type": "markdown",
   "metadata": {},
   "source": [
    "## Plotting Countries over Time"
   ]
  },
  {
   "cell_type": "markdown",
   "metadata": {},
   "source": [
    "Now we want to take a closer look at how factors for countries can change over time. We add a column for year for each of the datasets that we read in, spanning the interval from 2015 to 2020, and then combine these datasets so we can analyze changes over time."
   ]
  },
  {
   "cell_type": "code",
   "execution_count": 94,
   "metadata": {},
   "outputs": [
    {
     "data": {
      "text/html": [
       "<div>\n",
       "<style scoped>\n",
       "    .dataframe tbody tr th:only-of-type {\n",
       "        vertical-align: middle;\n",
       "    }\n",
       "\n",
       "    .dataframe tbody tr th {\n",
       "        vertical-align: top;\n",
       "    }\n",
       "\n",
       "    .dataframe thead th {\n",
       "        text-align: right;\n",
       "    }\n",
       "</style>\n",
       "<table border=\"1\" class=\"dataframe\">\n",
       "  <thead>\n",
       "    <tr style=\"text-align: right;\">\n",
       "      <th></th>\n",
       "      <th>Country</th>\n",
       "      <th>Region</th>\n",
       "      <th>Happiness Rank</th>\n",
       "      <th>Happiness Score</th>\n",
       "      <th>Standard Error</th>\n",
       "      <th>GDP</th>\n",
       "      <th>Family</th>\n",
       "      <th>Life Expectancy</th>\n",
       "      <th>Freedom</th>\n",
       "      <th>Trust</th>\n",
       "      <th>...</th>\n",
       "      <th>upperwhisker</th>\n",
       "      <th>lowerwhisker</th>\n",
       "      <th>Ladder score in Dystopia</th>\n",
       "      <th>Explained by: Log GDP per capita</th>\n",
       "      <th>Explained by: Social support</th>\n",
       "      <th>Explained by: Healthy life expectancy</th>\n",
       "      <th>Explained by: Freedom to make life choices</th>\n",
       "      <th>Explained by: Generosity</th>\n",
       "      <th>Explained by: Perceptions of corruption</th>\n",
       "      <th>Dystopia + residual</th>\n",
       "    </tr>\n",
       "  </thead>\n",
       "  <tbody>\n",
       "    <tr>\n",
       "      <th>0</th>\n",
       "      <td>Switzerland</td>\n",
       "      <td>Western Europe</td>\n",
       "      <td>1.0</td>\n",
       "      <td>7.587</td>\n",
       "      <td>0.03411</td>\n",
       "      <td>1.39651</td>\n",
       "      <td>1.34951</td>\n",
       "      <td>0.94143</td>\n",
       "      <td>0.66557</td>\n",
       "      <td>0.41978</td>\n",
       "      <td>...</td>\n",
       "      <td>NaN</td>\n",
       "      <td>NaN</td>\n",
       "      <td>NaN</td>\n",
       "      <td>NaN</td>\n",
       "      <td>NaN</td>\n",
       "      <td>NaN</td>\n",
       "      <td>NaN</td>\n",
       "      <td>NaN</td>\n",
       "      <td>NaN</td>\n",
       "      <td>NaN</td>\n",
       "    </tr>\n",
       "    <tr>\n",
       "      <th>1</th>\n",
       "      <td>Iceland</td>\n",
       "      <td>Western Europe</td>\n",
       "      <td>2.0</td>\n",
       "      <td>7.561</td>\n",
       "      <td>0.04884</td>\n",
       "      <td>1.30232</td>\n",
       "      <td>1.40223</td>\n",
       "      <td>0.94784</td>\n",
       "      <td>0.62877</td>\n",
       "      <td>0.14145</td>\n",
       "      <td>...</td>\n",
       "      <td>NaN</td>\n",
       "      <td>NaN</td>\n",
       "      <td>NaN</td>\n",
       "      <td>NaN</td>\n",
       "      <td>NaN</td>\n",
       "      <td>NaN</td>\n",
       "      <td>NaN</td>\n",
       "      <td>NaN</td>\n",
       "      <td>NaN</td>\n",
       "      <td>NaN</td>\n",
       "    </tr>\n",
       "    <tr>\n",
       "      <th>2</th>\n",
       "      <td>Denmark</td>\n",
       "      <td>Western Europe</td>\n",
       "      <td>3.0</td>\n",
       "      <td>7.527</td>\n",
       "      <td>0.03328</td>\n",
       "      <td>1.32548</td>\n",
       "      <td>1.36058</td>\n",
       "      <td>0.87464</td>\n",
       "      <td>0.64938</td>\n",
       "      <td>0.48357</td>\n",
       "      <td>...</td>\n",
       "      <td>NaN</td>\n",
       "      <td>NaN</td>\n",
       "      <td>NaN</td>\n",
       "      <td>NaN</td>\n",
       "      <td>NaN</td>\n",
       "      <td>NaN</td>\n",
       "      <td>NaN</td>\n",
       "      <td>NaN</td>\n",
       "      <td>NaN</td>\n",
       "      <td>NaN</td>\n",
       "    </tr>\n",
       "    <tr>\n",
       "      <th>3</th>\n",
       "      <td>Norway</td>\n",
       "      <td>Western Europe</td>\n",
       "      <td>4.0</td>\n",
       "      <td>7.522</td>\n",
       "      <td>0.03880</td>\n",
       "      <td>1.45900</td>\n",
       "      <td>1.33095</td>\n",
       "      <td>0.88521</td>\n",
       "      <td>0.66973</td>\n",
       "      <td>0.36503</td>\n",
       "      <td>...</td>\n",
       "      <td>NaN</td>\n",
       "      <td>NaN</td>\n",
       "      <td>NaN</td>\n",
       "      <td>NaN</td>\n",
       "      <td>NaN</td>\n",
       "      <td>NaN</td>\n",
       "      <td>NaN</td>\n",
       "      <td>NaN</td>\n",
       "      <td>NaN</td>\n",
       "      <td>NaN</td>\n",
       "    </tr>\n",
       "    <tr>\n",
       "      <th>4</th>\n",
       "      <td>Canada</td>\n",
       "      <td>North America</td>\n",
       "      <td>5.0</td>\n",
       "      <td>7.427</td>\n",
       "      <td>0.03553</td>\n",
       "      <td>1.32629</td>\n",
       "      <td>1.32261</td>\n",
       "      <td>0.90563</td>\n",
       "      <td>0.63297</td>\n",
       "      <td>0.32957</td>\n",
       "      <td>...</td>\n",
       "      <td>NaN</td>\n",
       "      <td>NaN</td>\n",
       "      <td>NaN</td>\n",
       "      <td>NaN</td>\n",
       "      <td>NaN</td>\n",
       "      <td>NaN</td>\n",
       "      <td>NaN</td>\n",
       "      <td>NaN</td>\n",
       "      <td>NaN</td>\n",
       "      <td>NaN</td>\n",
       "    </tr>\n",
       "  </tbody>\n",
       "</table>\n",
       "<p>5 rows × 32 columns</p>\n",
       "</div>"
      ],
      "text/plain": [
       "       Country          Region  Happiness Rank  Happiness Score  \\\n",
       "0  Switzerland  Western Europe             1.0            7.587   \n",
       "1      Iceland  Western Europe             2.0            7.561   \n",
       "2      Denmark  Western Europe             3.0            7.527   \n",
       "3       Norway  Western Europe             4.0            7.522   \n",
       "4       Canada   North America             5.0            7.427   \n",
       "\n",
       "   Standard Error      GDP   Family  Life Expectancy  Freedom    Trust  ...  \\\n",
       "0         0.03411  1.39651  1.34951          0.94143  0.66557  0.41978  ...   \n",
       "1         0.04884  1.30232  1.40223          0.94784  0.62877  0.14145  ...   \n",
       "2         0.03328  1.32548  1.36058          0.87464  0.64938  0.48357  ...   \n",
       "3         0.03880  1.45900  1.33095          0.88521  0.66973  0.36503  ...   \n",
       "4         0.03553  1.32629  1.32261          0.90563  0.63297  0.32957  ...   \n",
       "\n",
       "   upperwhisker  lowerwhisker  Ladder score in Dystopia  \\\n",
       "0           NaN           NaN                       NaN   \n",
       "1           NaN           NaN                       NaN   \n",
       "2           NaN           NaN                       NaN   \n",
       "3           NaN           NaN                       NaN   \n",
       "4           NaN           NaN                       NaN   \n",
       "\n",
       "   Explained by: Log GDP per capita  Explained by: Social support  \\\n",
       "0                               NaN                           NaN   \n",
       "1                               NaN                           NaN   \n",
       "2                               NaN                           NaN   \n",
       "3                               NaN                           NaN   \n",
       "4                               NaN                           NaN   \n",
       "\n",
       "   Explained by: Healthy life expectancy  \\\n",
       "0                                    NaN   \n",
       "1                                    NaN   \n",
       "2                                    NaN   \n",
       "3                                    NaN   \n",
       "4                                    NaN   \n",
       "\n",
       "   Explained by: Freedom to make life choices  Explained by: Generosity  \\\n",
       "0                                         NaN                       NaN   \n",
       "1                                         NaN                       NaN   \n",
       "2                                         NaN                       NaN   \n",
       "3                                         NaN                       NaN   \n",
       "4                                         NaN                       NaN   \n",
       "\n",
       "   Explained by: Perceptions of corruption  Dystopia + residual  \n",
       "0                                      NaN                  NaN  \n",
       "1                                      NaN                  NaN  \n",
       "2                                      NaN                  NaN  \n",
       "3                                      NaN                  NaN  \n",
       "4                                      NaN                  NaN  \n",
       "\n",
       "[5 rows x 32 columns]"
      ]
     },
     "execution_count": 94,
     "metadata": {},
     "output_type": "execute_result"
    }
   ],
   "source": [
    "df_2015['Year'] = 2015\n",
    "df_2016['Year'] = 2016\n",
    "df_2017['Year'] = 2017\n",
    "df_2018['Year'] = 2018\n",
    "df_2019['Year'] = 2019\n",
    "df_2020['Year'] = 2020\n",
    "\n",
    "yearly_df = df_2015.append(df_2016).append(df_2017).append(df_2018).append(df_2019).append(df_2020)\n",
    "yearly_df.head()"
   ]
  },
  {
   "cell_type": "markdown",
   "metadata": {},
   "source": [
    "Using the previously found top and bottom 5 countries in average happiness rating over our time interval, we look at how this rating can fluctuate over a span of several years for this sample of countries."
   ]
  },
  {
   "cell_type": "code",
   "execution_count": 95,
   "metadata": {
    "scrolled": true
   },
   "outputs": [
    {
     "data": {
      "image/png": "[encoded data removed]",
      "text/plain": [
       "<Figure size 432x288 with 1 Axes>"
      ]
     },
     "metadata": {
      "needs_background": "light"
     },
     "output_type": "display_data"
    }
   ],
   "source": [
    "# Plotting happiness of countries over time\n",
    "happiness = yearly_df.pivot(index=\"Year\", columns=\"Country\",values=\"Happiness Score\")\n",
    "\n",
    "top5 = ['Finland', 'Denmark', 'Switzerland', 'Norway', 'Iceland']\n",
    "for country in top5:\n",
    "    plt.plot(happiness[country], label=country)\n",
    "    plt.legend(country)\n",
    "\n",
    "\n",
    "yMax = plt.ylim()[1]\n",
    "plt.title(\"Distribution of Happiness Scores Across 5 Happiest Countries Over Time\")\n",
    "plt.xlabel(\"Year\")\n",
    "plt.ylabel(\"Happiness Score\")\n",
    "plt.legend(bbox_to_anchor=(0.03,0.95), loc=2, ncol=5)\n",
    "plt.show()"
   ]
  },
  {
   "cell_type": "code",
   "execution_count": 96,
   "metadata": {},
   "outputs": [
    {
     "data": {
      "image/png": "[encoded data removed]",
      "text/plain": [
       "<Figure size 432x288 with 1 Axes>"
      ]
     },
     "metadata": {
      "needs_background": "light"
     },
     "output_type": "display_data"
    }
   ],
   "source": [
    "bottom5 = ['Yemen', 'Tanzania', 'Rwanda', 'Afghanistan', 'Burundi']\n",
    "for country in bottom5:\n",
    "    plt.plot(happiness[country], label=country)\n",
    "    plt.legend(country)\n",
    "\n",
    "\n",
    "yMax = plt.ylim()[1]\n",
    "plt.title(\"Distribution of Happiness Scores Across 5 Least Happiest Countries Over Time\")\n",
    "plt.xlabel(\"Year\")\n",
    "plt.ylabel(\"Happiness Score\")\n",
    "plt.legend(bbox_to_anchor=(0.03,0.95), loc=2, ncol=5)\n",
    "plt.show()"
   ]
  },
  {
   "cell_type": "markdown",
   "metadata": {},
   "source": [
    "## Looking for Consistent Factors"
   ]
  },
  {
   "cell_type": "markdown",
   "metadata": {},
   "source": [
    "Now to take a closer look at the different factors that could affect this happiness rating for each country, we will inspect the following variables: GDP, Life Expectancy, Freedom, Trust, and Generosity. This way, for each country we can look at how these attributes fluctuate over our time interval."
   ]
  },
  {
   "cell_type": "code",
   "execution_count": 97,
   "metadata": {},
   "outputs": [
    {
     "data": {
      "text/html": [
       "<div>\n",
       "<style scoped>\n",
       "    .dataframe tbody tr th:only-of-type {\n",
       "        vertical-align: middle;\n",
       "    }\n",
       "\n",
       "    .dataframe tbody tr th {\n",
       "        vertical-align: top;\n",
       "    }\n",
       "\n",
       "    .dataframe thead th {\n",
       "        text-align: right;\n",
       "    }\n",
       "</style>\n",
       "<table border=\"1\" class=\"dataframe\">\n",
       "  <thead>\n",
       "    <tr style=\"text-align: right;\">\n",
       "      <th></th>\n",
       "      <th>Country</th>\n",
       "      <th>Year</th>\n",
       "      <th>Happiness Score</th>\n",
       "      <th>GDP</th>\n",
       "      <th>Life Expectancy</th>\n",
       "      <th>Freedom</th>\n",
       "      <th>Trust</th>\n",
       "      <th>Generosity</th>\n",
       "    </tr>\n",
       "  </thead>\n",
       "  <tbody>\n",
       "    <tr>\n",
       "      <th>1</th>\n",
       "      <td>Iceland</td>\n",
       "      <td>2015</td>\n",
       "      <td>7.5610</td>\n",
       "      <td>1.302320</td>\n",
       "      <td>0.947840</td>\n",
       "      <td>0.628770</td>\n",
       "      <td>0.141450</td>\n",
       "      <td>0.436300</td>\n",
       "    </tr>\n",
       "    <tr>\n",
       "      <th>2</th>\n",
       "      <td>Iceland</td>\n",
       "      <td>2016</td>\n",
       "      <td>7.5010</td>\n",
       "      <td>1.426660</td>\n",
       "      <td>0.867330</td>\n",
       "      <td>0.566240</td>\n",
       "      <td>0.149750</td>\n",
       "      <td>0.476780</td>\n",
       "    </tr>\n",
       "    <tr>\n",
       "      <th>2</th>\n",
       "      <td>Iceland</td>\n",
       "      <td>2017</td>\n",
       "      <td>7.5040</td>\n",
       "      <td>1.480633</td>\n",
       "      <td>0.833552</td>\n",
       "      <td>0.627163</td>\n",
       "      <td>0.153527</td>\n",
       "      <td>0.475540</td>\n",
       "    </tr>\n",
       "    <tr>\n",
       "      <th>3</th>\n",
       "      <td>Iceland</td>\n",
       "      <td>2018</td>\n",
       "      <td>7.4950</td>\n",
       "      <td>1.343000</td>\n",
       "      <td>0.914000</td>\n",
       "      <td>0.677000</td>\n",
       "      <td>0.138000</td>\n",
       "      <td>0.353000</td>\n",
       "    </tr>\n",
       "    <tr>\n",
       "      <th>3</th>\n",
       "      <td>Iceland</td>\n",
       "      <td>2019</td>\n",
       "      <td>7.4940</td>\n",
       "      <td>1.380000</td>\n",
       "      <td>1.026000</td>\n",
       "      <td>0.591000</td>\n",
       "      <td>0.118000</td>\n",
       "      <td>0.354000</td>\n",
       "    </tr>\n",
       "    <tr>\n",
       "      <th>3</th>\n",
       "      <td>Iceland</td>\n",
       "      <td>2020</td>\n",
       "      <td>7.5045</td>\n",
       "      <td>10.772559</td>\n",
       "      <td>73.000000</td>\n",
       "      <td>0.948892</td>\n",
       "      <td>0.711710</td>\n",
       "      <td>0.246944</td>\n",
       "    </tr>\n",
       "  </tbody>\n",
       "</table>\n",
       "</div>"
      ],
      "text/plain": [
       "   Country  Year  Happiness Score        GDP  Life Expectancy   Freedom  \\\n",
       "1  Iceland  2015           7.5610   1.302320         0.947840  0.628770   \n",
       "2  Iceland  2016           7.5010   1.426660         0.867330  0.566240   \n",
       "2  Iceland  2017           7.5040   1.480633         0.833552  0.627163   \n",
       "3  Iceland  2018           7.4950   1.343000         0.914000  0.677000   \n",
       "3  Iceland  2019           7.4940   1.380000         1.026000  0.591000   \n",
       "3  Iceland  2020           7.5045  10.772559        73.000000  0.948892   \n",
       "\n",
       "      Trust  Generosity  \n",
       "1  0.141450    0.436300  \n",
       "2  0.149750    0.476780  \n",
       "2  0.153527    0.475540  \n",
       "3  0.138000    0.353000  \n",
       "3  0.118000    0.354000  \n",
       "3  0.711710    0.246944  "
      ]
     },
     "execution_count": 97,
     "metadata": {},
     "output_type": "execute_result"
    }
   ],
   "source": [
    "yearly_df1 = yearly_df[['Country','Year','Happiness Score','GDP','Life Expectancy','Freedom','Trust','Generosity']]\n",
    "top5_factors = yearly_df1[yearly_df1['Country'].isin(['Iceland'])]\n",
    "top5_factors"
   ]
  },
  {
   "cell_type": "markdown",
   "metadata": {},
   "source": [
    "We construct plots for each of the 5 variables we've mentioned over time for the 5 highest and lowest countries that we've been using as our sample."
   ]
  },
  {
   "cell_type": "code",
   "execution_count": 98,
   "metadata": {},
   "outputs": [
    {
     "data": {
      "image/png": "[encoded data removed]",
      "text/plain": [
       "<Figure size 432x288 with 1 Axes>"
      ]
     },
     "metadata": {
      "needs_background": "light"
     },
     "output_type": "display_data"
    }
   ],
   "source": [
    "top5.extend(bottom5)\n",
    "countries = top5\n",
    "gdp = yearly_df.pivot(index=\"Year\", columns=\"Country\",values=\"GDP\")\n",
    "for country in countries:\n",
    "    plt.plot(gdp[country], label=country)\n",
    "    plt.legend(country)\n",
    "\n",
    "yMax = plt.ylim()[1]\n",
    "plt.title(\"Distribution of GDP Across Countries Over Time\")\n",
    "plt.xlabel(\"Year\")\n",
    "plt.ylabel(\"GDP per Capita\")\n",
    "plt.legend(bbox_to_anchor=(0.03,0.95), loc=2, ncol=5)\n",
    "plt.show()"
   ]
  },
  {
   "cell_type": "code",
   "execution_count": 99,
   "metadata": {},
   "outputs": [
    {
     "data": {
      "image/png": "[encoded data removed]",
      "text/plain": [
       "<Figure size 432x288 with 1 Axes>"
      ]
     },
     "metadata": {
      "needs_background": "light"
     },
     "output_type": "display_data"
    }
   ],
   "source": [
    "life = yearly_df.pivot(index=\"Year\", columns=\"Country\",values=\"Life Expectancy\")\n",
    "for country in countries:\n",
    "    plt.plot(life[country], label=country)\n",
    "    plt.legend(country)\n",
    "\n",
    "yMax = plt.ylim()[1]\n",
    "plt.title(\"Distribution of Life Expectancy Across Countries Over Time\")\n",
    "plt.xlabel(\"Year\")\n",
    "plt.ylabel(\"Life Expectancy\")\n",
    "plt.legend(bbox_to_anchor=(0.03,0.95), loc=2, ncol=5)\n",
    "plt.show()"
   ]
  },
  {
   "cell_type": "code",
   "execution_count": 100,
   "metadata": {},
   "outputs": [
    {
     "data": {
      "image/png": "[encoded data removed]",
      "text/plain": [
       "<Figure size 432x288 with 1 Axes>"
      ]
     },
     "metadata": {
      "needs_background": "light"
     },
     "output_type": "display_data"
    }
   ],
   "source": [
    "freedom = yearly_df.pivot(index=\"Year\", columns=\"Country\",values=\"Freedom\")\n",
    "for country in countries:\n",
    "    plt.plot(freedom[country], label=country)\n",
    "    plt.legend(country)\n",
    "\n",
    "yMax = plt.ylim()[1]\n",
    "plt.title(\"Distribution of Freedom Across Countries Over Time\")\n",
    "plt.xlabel(\"Year\")\n",
    "plt.ylabel(\"Freedom Rating\")\n",
    "plt.legend(bbox_to_anchor=(0.03,0.95), loc=2, ncol=5)\n",
    "plt.show()"
   ]
  },
  {
   "cell_type": "code",
   "execution_count": 101,
   "metadata": {},
   "outputs": [
    {
     "data": {
      "image/png": "[encoded data removed]",
      "text/plain": [
       "<Figure size 432x288 with 1 Axes>"
      ]
     },
     "metadata": {
      "needs_background": "light"
     },
     "output_type": "display_data"
    }
   ],
   "source": [
    "trust = yearly_df.pivot(index=\"Year\", columns=\"Country\",values=\"Trust\")\n",
    "for country in countries:\n",
    "    plt.plot(trust[country], label=country)\n",
    "    plt.legend(country)\n",
    "\n",
    "yMax = plt.ylim()[1]\n",
    "plt.title(\"Distribution of Trust Across Countries Over Time\")\n",
    "plt.xlabel(\"Year\")\n",
    "plt.ylabel(\"Trust Rating\")\n",
    "plt.legend(bbox_to_anchor=(0.03,0.95), loc=2, ncol=5)\n",
    "plt.show()"
   ]
  },
  {
   "cell_type": "code",
   "execution_count": 102,
   "metadata": {},
   "outputs": [
    {
     "data": {
      "image/png": "[encoded data removed]",
      "text/plain": [
       "<Figure size 432x288 with 1 Axes>"
      ]
     },
     "metadata": {
      "needs_background": "light"
     },
     "output_type": "display_data"
    }
   ],
   "source": [
    "generosity = yearly_df.pivot(index=\"Year\", columns=\"Country\",values=\"Generosity\")\n",
    "for country in countries:\n",
    "    plt.plot(generosity[country], label=country)\n",
    "    plt.legend(country)\n",
    "\n",
    "yMax = plt.ylim()[1]\n",
    "plt.title(\"Distribution of Generosity Across Countries Over Time\")\n",
    "plt.xlabel(\"Year\")\n",
    "plt.ylabel(\"Generosity Rating\")\n",
    "plt.legend(bbox_to_anchor=(0.03,0.95), loc=2, ncol=5)\n",
    "plt.show()"
   ]
  },
  {
   "cell_type": "markdown",
   "metadata": {},
   "source": [
    "From inspecting the time plots we can see that for the Freedom rating variable, there is a clear distinction and separation in value between the top 5 countries and the bottom 5 in terms of happiness rating. Because of this, we will choose to run a linear regression analysis on the Freedom variable."
   ]
  },
  {
   "cell_type": "code",
   "execution_count": 120,
   "metadata": {
    "scrolled": true
   },
   "outputs": [
    {
     "data": {
      "text/html": [
       "<table class=\"simpletable\">\n",
       "<caption>OLS Regression Results</caption>\n",
       "<tr>\n",
       "  <th>Dep. Variable:</th>        <td>Happiness</td>    <th>  R-squared:         </th> <td>   0.182</td>\n",
       "</tr>\n",
       "<tr>\n",
       "  <th>Model:</th>                   <td>OLS</td>       <th>  Adj. R-squared:    </th> <td>   0.181</td>\n",
       "</tr>\n",
       "<tr>\n",
       "  <th>Method:</th>             <td>Least Squares</td>  <th>  F-statistic:       </th> <td>   207.2</td>\n",
       "</tr>\n",
       "<tr>\n",
       "  <th>Date:</th>             <td>Fri, 18 Dec 2020</td> <th>  Prob (F-statistic):</th> <td>1.42e-42</td>\n",
       "</tr>\n",
       "<tr>\n",
       "  <th>Time:</th>                 <td>07:07:52</td>     <th>  Log-Likelihood:    </th> <td> -1342.5</td>\n",
       "</tr>\n",
       "<tr>\n",
       "  <th>No. Observations:</th>      <td>   935</td>      <th>  AIC:               </th> <td>   2689.</td>\n",
       "</tr>\n",
       "<tr>\n",
       "  <th>Df Residuals:</th>          <td>   933</td>      <th>  BIC:               </th> <td>   2699.</td>\n",
       "</tr>\n",
       "<tr>\n",
       "  <th>Df Model:</th>              <td>     1</td>      <th>                     </th>     <td> </td>   \n",
       "</tr>\n",
       "<tr>\n",
       "  <th>Covariance Type:</th>      <td>nonrobust</td>    <th>                     </th>     <td> </td>   \n",
       "</tr>\n",
       "</table>\n",
       "<table class=\"simpletable\">\n",
       "<tr>\n",
       "      <td></td>         <th>coef</th>     <th>std err</th>      <th>t</th>      <th>P>|t|</th>  <th>[0.025</th>    <th>0.975]</th>  \n",
       "</tr>\n",
       "<tr>\n",
       "  <th>Intercept</th> <td>    4.2737</td> <td>    0.085</td> <td>   50.468</td> <td> 0.000</td> <td>    4.107</td> <td>    4.440</td>\n",
       "</tr>\n",
       "<tr>\n",
       "  <th>Freedom</th>   <td>    2.3745</td> <td>    0.165</td> <td>   14.395</td> <td> 0.000</td> <td>    2.051</td> <td>    2.698</td>\n",
       "</tr>\n",
       "</table>\n",
       "<table class=\"simpletable\">\n",
       "<tr>\n",
       "  <th>Omnibus:</th>       <td>27.870</td> <th>  Durbin-Watson:     </th> <td>   0.230</td>\n",
       "</tr>\n",
       "<tr>\n",
       "  <th>Prob(Omnibus):</th> <td> 0.000</td> <th>  Jarque-Bera (JB):  </th> <td>  17.549</td>\n",
       "</tr>\n",
       "<tr>\n",
       "  <th>Skew:</th>          <td>-0.194</td> <th>  Prob(JB):          </th> <td>0.000155</td>\n",
       "</tr>\n",
       "<tr>\n",
       "  <th>Kurtosis:</th>      <td> 2.453</td> <th>  Cond. No.          </th> <td>    6.10</td>\n",
       "</tr>\n",
       "</table><br/><br/>Warnings:<br/>[1] Standard Errors assume that the covariance matrix of the errors is correctly specified."
      ],
      "text/plain": [
       "<class 'statsmodels.iolib.summary.Summary'>\n",
       "\"\"\"\n",
       "                            OLS Regression Results                            \n",
       "==============================================================================\n",
       "Dep. Variable:              Happiness   R-squared:                       0.182\n",
       "Model:                            OLS   Adj. R-squared:                  0.181\n",
       "Method:                 Least Squares   F-statistic:                     207.2\n",
       "Date:                Fri, 18 Dec 2020   Prob (F-statistic):           1.42e-42\n",
       "Time:                        07:07:52   Log-Likelihood:                -1342.5\n",
       "No. Observations:                 935   AIC:                             2689.\n",
       "Df Residuals:                     933   BIC:                             2699.\n",
       "Df Model:                           1                                         \n",
       "Covariance Type:            nonrobust                                         \n",
       "==============================================================================\n",
       "                 coef    std err          t      P>|t|      [0.025      0.975]\n",
       "------------------------------------------------------------------------------\n",
       "Intercept      4.2737      0.085     50.468      0.000       4.107       4.440\n",
       "Freedom        2.3745      0.165     14.395      0.000       2.051       2.698\n",
       "==============================================================================\n",
       "Omnibus:                       27.870   Durbin-Watson:                   0.230\n",
       "Prob(Omnibus):                  0.000   Jarque-Bera (JB):               17.549\n",
       "Skew:                          -0.194   Prob(JB):                     0.000155\n",
       "Kurtosis:                       2.453   Cond. No.                         6.10\n",
       "==============================================================================\n",
       "\n",
       "Warnings:\n",
       "[1] Standard Errors assume that the covariance matrix of the errors is correctly specified.\n",
       "\"\"\""
      ]
     },
     "execution_count": 120,
     "metadata": {},
     "output_type": "execute_result"
    }
   ],
   "source": [
    "yearly_df=yearly_df.rename(columns={'Happiness Score':'Happiness'})\n",
    "\n",
    "x = yearly_df['Freedom'].values.reshape(-1,1)\n",
    "y = yearly_df['Happiness'].values\n",
    "\n",
    "reg = sm.ols(formula='Happiness ~ Freedom', data=yearly_df).fit()\n",
    "\n",
    "lm = linear_model.LinearRegression()\n",
    "lm.fit(x, y)\n",
    "\n",
    "reg.summary()"
   ]
  },
  {
   "cell_type": "code",
   "execution_count": 121,
   "metadata": {},
   "outputs": [
    {
     "name": "stdout",
     "output_type": "stream",
     "text": [
      "\t1.4216711837834532e-42\n"
     ]
    }
   ],
   "source": [
    "# Print P value\n",
    "print('\\t{}'.format(reg.pvalues['Freedom']))"
   ]
  },
  {
   "cell_type": "markdown",
   "metadata": {},
   "source": [
    "### Conclusion\n",
    "\n",
    "From plotting each attribute, it is clear that there is a differenciation between the top 5 and bottom 5 countries for all 5 attribute. However, the plots made it clear that life expectancy and GDP showed the greatest difference. Because of this, we ran the regression on GDP versus happiness and found that the p-value of 1.3159381177526332e-35 "
   ]
  }
 ],
 "metadata": {
  "kernelspec": {
   "display_name": "Python 3",
   "language": "python",
   "name": "python3"
  },
  "language_info": {
   "codemirror_mode": {
    "name": "ipython",
    "version": 3
   },
   "file_extension": ".py",
   "mimetype": "text/x-python",
   "name": "python",
   "nbconvert_exporter": "python",
   "pygments_lexer": "ipython3",
   "version": "3.8.5"
  }
 },
 "nbformat": 4,
 "nbformat_minor": 4
}
